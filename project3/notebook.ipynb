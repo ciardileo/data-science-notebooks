{
 "cells": [
  {
   "cell_type": "markdown",
   "metadata": {},
   "source": [
    "Question: Can we predict the amount of calories burnt during a workout based on biological measures?"
   ]
  },
  {
   "cell_type": "code",
   "execution_count": null,
   "metadata": {},
   "outputs": [],
   "source": [
    "# imports\n",
    "import pandas as pd\n",
    "import numpy as np\n",
    "import plotly.express as px\n",
    "import matplotlib.pyplot as plt\n",
    "import statsmodels.api as sm\n",
    "from sklearn.linear_model import LinearRegression\n",
    "from sklearn.model_selection import train_test_split"
   ]
  },
  {
   "cell_type": "markdown",
   "metadata": {},
   "source": [
    "### Dataset Creation and Initial Treatment"
   ]
  },
  {
   "cell_type": "code",
   "execution_count": null,
   "metadata": {},
   "outputs": [],
   "source": [
    "# loading\n",
    "df = pd.read_csv('calories.csv') # source: https://www.kaggle.com/datasets/ruchikakumbhar/calories-burnt-prediction/data"
   ]
  },
  {
   "cell_type": "code",
   "execution_count": null,
   "metadata": {},
   "outputs": [],
   "source": [
    "df.head(10)"
   ]
  },
  {
   "cell_type": "code",
   "execution_count": null,
   "metadata": {},
   "outputs": [],
   "source": [
    "df.info()"
   ]
  },
  {
   "cell_type": "code",
   "execution_count": null,
   "metadata": {},
   "outputs": [],
   "source": [
    "# setting up and cleaning\n",
    "df = df.set_index('User_ID')  # set the column 'User_ID' as the dataset index\n",
    "df = df.drop_duplicates()  # remove duplicates\n",
    "df = df.fillna(0)  # fill empty columns with 0"
   ]
  },
  {
   "cell_type": "code",
   "execution_count": null,
   "metadata": {},
   "outputs": [],
   "source": [
    "# changing gender to binary numbers, so we can do a better correlation\n",
    "df['Gender'] = df['Gender'].map({'male' : 0, 'female': 1})"
   ]
  },
  {
   "cell_type": "markdown",
   "metadata": {},
   "source": [
    "### EDA (Exploratory Data Analisys)"
   ]
  },
  {
   "cell_type": "code",
   "execution_count": null,
   "metadata": {},
   "outputs": [],
   "source": [
    "df.describe()"
   ]
  },
  {
   "cell_type": "code",
   "execution_count": null,
   "metadata": {},
   "outputs": [],
   "source": [
    "# correlation: -1 is inversely proportional and 1 is directly proportional\n",
    "df.corr()\n",
    "# this shows us that the top three correlated (apparently) variables are duration, heart_rate and body_temperature"
   ]
  },
  {
   "cell_type": "code",
   "execution_count": null,
   "metadata": {},
   "outputs": [],
   "source": [
    "# undo the binary gender representation\n",
    "df['Gender'] = df['Gender'].map({0 : 'male', 1: 'female'})"
   ]
  },
  {
   "cell_type": "code",
   "execution_count": null,
   "metadata": {},
   "outputs": [],
   "source": [
    "# average height and weight between men and women\n",
    "gender_groupby = df.groupby('Gender').agg({'Height': 'mean', 'Weight': 'mean', 'Calories': 'mean'})\n",
    "gender_groupby"
   ]
  },
  {
   "cell_type": "code",
   "execution_count": null,
   "metadata": {},
   "outputs": [],
   "source": [
    "# measures of men and women who burnt most calories\n",
    "men_data = df[df['Gender'] == 'male'].sort_values(by='Calories', ascending=False)[['Age', 'Height', 'Weight', 'Duration', 'Heart_Rate', 'Body_Temp', 'Calories']]\n",
    "men_data.head(10)"
   ]
  },
  {
   "cell_type": "code",
   "execution_count": null,
   "metadata": {},
   "outputs": [],
   "source": [
    "women_data = df[df['Gender'] == 'female'].sort_values(by='Calories', ascending=False)[['Age', 'Height', 'Weight', 'Duration', 'Heart_Rate', 'Body_Temp', 'Calories']]\n",
    "women_data.head(10)"
   ]
  },
  {
   "cell_type": "code",
   "execution_count": null,
   "metadata": {},
   "outputs": [],
   "source": [
    "# checking the correlation between duration and heart rate, and duration and body temp\n",
    "filter_data = df.sort_values(by=['Duration', 'Body_Temp', 'Heart_Rate'], ascending=[True, False, False])\n",
    "filter_data.head()"
   ]
  },
  {
   "cell_type": "code",
   "execution_count": null,
   "metadata": {},
   "outputs": [],
   "source": [
    "# attempt of representation of all the signficant variables in one scatter plot\n",
    "fig = px.scatter(\n",
    "    df, \n",
    "    x='Duration',\n",
    "    y='Calories',\n",
    "    color='Gender',\n",
    "    size='Heart_Rate',\n",
    "    trendline='ols', # linear regression line\n",
    "    hover_data=['Height', 'Weight', 'Heart_Rate', 'Body_Temp'],\n",
    "    labels={'Gender': 'Gender', 'Heart_Rate': 'Heart Rate (bpm)'},\n",
    "    color_discrete_sequence=['blue', 'red']  # used for categorical variables color\n",
    ")\n",
    "\n",
    "fig.update_layout(\n",
    "    title='Calories Burnt During a Workout',\n",
    "    xaxis_title='Workout Duration (minutes)',\n",
    "    yaxis_title='Calories Burnt'\n",
    ")\n",
    "\n",
    "fig.update_layout(width=1000, height=700)\n",
    "\n",
    "fig.show()"
   ]
  },
  {
   "cell_type": "markdown",
   "metadata": {},
   "source": [
    "# Building a model"
   ]
  },
  {
   "cell_type": "code",
   "execution_count": null,
   "metadata": {},
   "outputs": [],
   "source": [
    "# verifying the statistic relationship between the variables\n",
    "\n",
    "y = df['Calories']  # target variable\n",
    "X = df[['Duration', 'Body_Temp', 'Heart_Rate', 'Age', 'Height', 'Weight']]  # feature variables (the key variables to predict the target variable)\n",
    "\n",
    "# constant\n",
    "X = sm.add_constant(X)\n",
    "\n",
    "# model\n",
    "model = sm.OLS(y, X).fit()\n",
    "\n",
    "# results\n",
    "print(model.summary())"
   ]
  },
  {
   "cell_type": "markdown",
   "metadata": {},
   "source": [
    "The results indicates that our models is good at predicting, don't suffer with auto-correlation but the multicollinearity between the feature variables is a problem. I've checked before that the cause of this multicollinearity is the correlation between duration and heart rate and body temperature. It seems like duration affects directly these two variables, which means that they're not good predictors for the calories burnt."
   ]
  },
  {
   "cell_type": "code",
   "execution_count": null,
   "metadata": {},
   "outputs": [],
   "source": [
    "# creating a linear regression model with Sklearn\n",
    "\n",
    "# variables\n",
    "X = np.array(df['Duration'])  # the main feature variable\n",
    "X = X.reshape(-1, 1) # the model expects a matrix\n",
    "\n",
    "y = df['Calories']\n",
    "\n",
    "# train test split\n",
    "X_train, X_test, y_train, y_test = train_test_split(X, y, test_size=0.2, random_state=42)\n",
    "\n",
    "# model \n",
    "model = LinearRegression()\n",
    "model.fit(X_train, y_train)\n",
    "\n",
    "# score\n",
    "score = model.score(X_test, y_test)\n",
    "print(score)\n",
    "\n",
    "# coefficients\n",
    "print(model.coef_)\n",
    "print(model.intercept_)"
   ]
  },
  {
   "cell_type": "code",
   "execution_count": null,
   "metadata": {},
   "outputs": [],
   "source": [
    "# plotting with matplotlib\n",
    "plt.scatter(X, y)\n",
    "plt.plot(X, model.predict(X), color=\"red\", label='Model Prediction')\n",
    "plt.xlabel('Workout Duration')\n",
    "plt.ylabel('Calories Burnt')\n",
    "plt.legend()\n",
    "plt.show()"
   ]
  },
  {
   "cell_type": "markdown",
   "metadata": {},
   "source": [
    "# Deploy"
   ]
  },
  {
   "cell_type": "code",
   "execution_count": null,
   "metadata": {},
   "outputs": [],
   "source": [
    "# creating an interface with streamlit"
   ]
  }
 ],
 "metadata": {
  "kernelspec": {
   "display_name": "venv",
   "language": "python",
   "name": "python3"
  },
  "language_info": {
   "codemirror_mode": {
    "name": "ipython",
    "version": 3
   },
   "file_extension": ".py",
   "mimetype": "text/x-python",
   "name": "python",
   "nbconvert_exporter": "python",
   "pygments_lexer": "ipython3",
   "version": "3.11.9"
  }
 },
 "nbformat": 4,
 "nbformat_minor": 2
}
